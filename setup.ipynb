{
 "cells": [
  {
   "cell_type": "code",
   "execution_count": 1,
   "id": "ba392bc1-27f2-4e7b-83a2-9002ee79fd63",
   "metadata": {
    "tags": []
   },
   "outputs": [
    {
     "name": "stdout",
     "output_type": "stream",
     "text": [
      "Cloning into 'photometry-sans-frustration'...\n",
      "remote: Enumerating objects: 292, done.\u001b[K\n",
      "remote: Counting objects: 100% (12/12), done.\u001b[K\n",
      "remote: Compressing objects: 100% (9/9), done.\u001b[K\n",
      "remote: Total 292 (delta 4), reused 9 (delta 3), pack-reused 280\u001b[K\n",
      "Receiving objects: 100% (292/292), 171.68 KiB | 2.07 MiB/s, done.\n",
      "Resolving deltas: 100% (177/177), done.\n"
     ]
    }
   ],
   "source": [
    "!git clone https://github.com/mnicholl/photometry-sans-frustration"
   ]
  },
  {
   "cell_type": "code",
   "execution_count": null,
   "id": "81cd34e2-aa58-4f22-b68c-e8a30a7494a9",
   "metadata": {},
   "outputs": [],
   "source": []
  }
 ],
 "metadata": {
  "kernelspec": {
   "display_name": "Python 3 (ipykernel)",
   "language": "python",
   "name": "python3"
  },
  "language_info": {
   "codemirror_mode": {
    "name": "ipython",
    "version": 3
   },
   "file_extension": ".py",
   "mimetype": "text/x-python",
   "name": "python",
   "nbconvert_exporter": "python",
   "pygments_lexer": "ipython3",
   "version": "3.11.0"
  }
 },
 "nbformat": 4,
 "nbformat_minor": 5
}
