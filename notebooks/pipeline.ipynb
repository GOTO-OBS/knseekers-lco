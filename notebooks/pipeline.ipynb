{
 "cells": [
  {
   "cell_type": "markdown",
   "id": "31ceb8cb-0324-4935-bc43-61cc99efefc2",
   "metadata": {},
   "source": [
    "# Pipeline\n",
    "This notebook takes LCO data straight from the [Archive](https://archive.lco.global), placed into the `data` directory, and performs photometry on the supernova within the images. Optionally, this can perform difference imaging to remove the background galaxy.\n",
    "\n",
    "To run the notebook step-by step, click on the code cell below, and press `Shift-Enter` on your keyboard to run the cells in sequence. Output files will arrive in the `output` directory after you've finished - you can download the PDF files to see how the photometry went."
   ]
  },
  {
   "cell_type": "code",
   "execution_count": null,
   "id": "a31d61a9-1a4c-4a12-8ee4-34ec0f36d35c",
   "metadata": {},
   "outputs": [],
   "source": [
    "import glob\n",
    "import logging\n",
    "import os\n",
    "import shutil\n",
    "\n",
    "logging.getLogger().setLevel(\"INFO\")\n",
    "\n",
    "\n",
    "def cleanup():\n",
    "    psf_outputs = [\"*_seq.txt\", \"template_*.fits\"]\n",
    "    if os.path.exists(\"PSF_output/\"):\n",
    "        shutil.rmtree(\"PSF_output/\")\n",
    "\n",
    "    for output in psf_outputs:\n",
    "        if outlist := glob.glob(output):\n",
    "            for item in outlist:\n",
    "                os.remove(item)\n",
    "\n",
    "    if fitslist := glob.glob(\"*[.fits,.fz]\"):\n",
    "        for file in fitslist:\n",
    "            os.remove(file)\n",
    "\n",
    "\n",
    "# Clean up any old runs\n",
    "cleanup()\n",
    "\n",
    "# Copy frames from data to here - temporarily.\n",
    "alldata = glob.glob(\"../data/*[.fits,.fz]\")\n",
    "\n",
    "local_paths = []\n",
    "\n",
    "for file in alldata:\n",
    "    potential_path = os.path.join(os.getcwd(), os.path.basename(file))\n",
    "    local_paths.append(potential_path)\n",
    "\n",
    "    if not os.path.exists(potential_path):\n",
    "        shutil.copy(file, os.getcwd())\n",
    "\n",
    "# Unpack the FITS files - these are compressed by default to save bandwidth while transmitting.\n",
    "if any(os.path.splitext(f)[-1] == \".fz\" for f in alldata):\n",
    "    logging.info(\"Unpacking FITS files\")\n",
    "    !funpack -D *.fz"
   ]
  },
  {
   "cell_type": "markdown",
   "id": "f9442e41-7679-46f1-83ba-aa5fb1ecb3df",
   "metadata": {},
   "source": [
    "### Configuring the pipeline\n",
    "We need to set a few things before running the pipeline:\n",
    "- `TARGET_RA`, `TARGET_DEC`: the right ascension and declination of the supernova, so we know where it should be in the image. If you're running this in Colab, you can use the boxes that "
   ]
  },
  {
   "cell_type": "code",
   "execution_count": null,
   "id": "bfe9b2e9-80af-4715-aa81-ab30dbfb0817",
   "metadata": {},
   "outputs": [],
   "source": [
    "# Here we need to set some parameters, so the code knows where to look\n",
    "TARGET_RA = 155.457239894  # @param {type:\"number\"}\n",
    "TARGET_DEC = 56.9279057494  # @param {type:\"number\"}\n",
    "\n",
    "# To enable image subtraction, add `--sub` to the list of options below\n",
    "# To enable cosmic ray cleaning, add `--clean` to the list of options below\n",
    "\n",
    "!python \\\n",
    "    ../photometry-sans-frustration/psf.py \\\n",
    "    -c $TARGET_RA $TARGET_DEC \\\n",
    "    --clean  \\\n",
    "    --quiet \\\n",
    "    --savefigs;"
   ]
  },
  {
   "cell_type": "code",
   "execution_count": null,
   "id": "809b1de8-f8ac-4edf-8c1e-9c40d0a5cab1",
   "metadata": {},
   "outputs": [],
   "source": [
    "logging.info(\"Cleaning up and placing things in correct place\")\n",
    "\n",
    "for path in local_paths:\n",
    "    os.remove(path)\n",
    "\n",
    "# move the PSF output to the output folder\n",
    "for file in glob.glob(\"PSF_output/*\"):\n",
    "    shutil.move(file, \"../outputs/\")\n",
    "\n",
    "cleanup()"
   ]
  },
  {
   "cell_type": "code",
   "execution_count": null,
   "id": "d5a7c864-9c50-41cb-8bbe-499b8dd72318",
   "metadata": {},
   "outputs": [],
   "source": []
  },
  {
   "cell_type": "code",
   "execution_count": null,
   "id": "f120de83-dc9e-44e8-9873-a63f8c76a95e",
   "metadata": {},
   "outputs": [],
   "source": []
  }
 ],
 "metadata": {
  "kernelspec": {
   "display_name": "Python 3 (ipykernel)",
   "language": "python",
   "name": "python3"
  },
  "language_info": {
   "codemirror_mode": {
    "name": "ipython",
    "version": 3
   },
   "file_extension": ".py",
   "mimetype": "text/x-python",
   "name": "python",
   "nbconvert_exporter": "python",
   "pygments_lexer": "ipython3",
   "version": "3.10.12"
  }
 },
 "nbformat": 4,
 "nbformat_minor": 5
}
