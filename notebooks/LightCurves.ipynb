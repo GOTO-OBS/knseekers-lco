{
 "cells": [
  {
   "cell_type": "markdown",
   "metadata": {
    "id": "eljLkVqfBmni"
   },
   "source": [
    "# Light Curves\n",
    "\n",
    "This notebook takes the data you reduced in the \"Pipeline\" notebook, which are stored in the `outputs` directory and plots a light curve for the transient.\n",
    "\n",
    "To run the notebook step-by step, click on the code cell below, and press `Shift-Enter` on your keyboard to run the cells in sequence. Plots will display in-line in the code, and will also be saved into the `plots` directory after you've finished."
   ]
  },
  {
   "cell_type": "markdown",
   "metadata": {
    "id": "Md1_CdUj5VCq"
   },
   "source": [
    "If you're on Google Colab or haven't yet completed installation, you'll need to run the cell below"
   ]
  },
  {
   "cell_type": "code",
   "execution_count": 24,
   "metadata": {
    "colab": {
     "base_uri": "https://localhost:8080/"
    },
    "id": "6CVAjAJZ5DoR",
    "outputId": "5a9c2e18-8b9e-4cbe-96b9-49cfddc67318",
    "tags": []
   },
   "outputs": [],
   "source": [
    "!pip install --upgrade --quiet pip setuptools wheel\n",
    "!pip install --quiet -r ../requirements.txt"
   ]
  },
  {
   "cell_type": "markdown",
   "metadata": {
    "id": "AHUbc5Iw5lfp"
   },
   "source": [
    "First we import the necessary libraries to make the photometric data more readable."
   ]
  },
  {
   "cell_type": "code",
   "execution_count": 25,
   "metadata": {
    "id": "PNAUcSMz68Mg",
    "tags": []
   },
   "outputs": [],
   "source": [
    "import matplotlib.pyplot as plt\n",
    "import numpy as np\n",
    "import pandas as pd"
   ]
  },
  {
   "cell_type": "markdown",
   "metadata": {
    "id": "i0o2Nwss7Jqc"
   },
   "source": [
    "We can now read the data into a dataframe. You will need to enter the name of the file that contains the data you want to plot."
   ]
  },
  {
   "cell_type": "code",
   "execution_count": 26,
   "metadata": {
    "colab": {
     "base_uri": "https://localhost:8080/",
     "height": 927
    },
    "id": "TkK9tYr67IcE",
    "outputId": "c6f4a5f0-34b5-41b9-fa44-ebb2f1ec7d9a",
    "tags": []
   },
   "outputs": [
    {
     "data": {
      "text/html": [
       "<div>\n",
       "<style scoped>\n",
       "    .dataframe tbody tr th:only-of-type {\n",
       "        vertical-align: middle;\n",
       "    }\n",
       "\n",
       "    .dataframe tbody tr th {\n",
       "        vertical-align: top;\n",
       "    }\n",
       "\n",
       "    .dataframe thead th {\n",
       "        text-align: right;\n",
       "    }\n",
       "</style>\n",
       "<table border=\"1\" class=\"dataframe\">\n",
       "  <thead>\n",
       "    <tr style=\"text-align: right;\">\n",
       "      <th></th>\n",
       "      <th>image</th>\n",
       "      <th>target</th>\n",
       "      <th>filter</th>\n",
       "      <th>mjd</th>\n",
       "      <th>PSFmag</th>\n",
       "      <th>err</th>\n",
       "    </tr>\n",
       "  </thead>\n",
       "  <tbody>\n",
       "    <tr>\n",
       "      <th>0</th>\n",
       "      <td>tfn0m436-sq33-20240221-0126-e91.fits</td>\n",
       "      <td>SN2024bch</td>\n",
       "      <td>r</td>\n",
       "      <td>60361.89</td>\n",
       "      <td>14.13</td>\n",
       "      <td>0.08</td>\n",
       "    </tr>\n",
       "    <tr>\n",
       "      <th>1</th>\n",
       "      <td>tfn0m436-sq33-20240221-0127-e91.fits</td>\n",
       "      <td>SN2024bch</td>\n",
       "      <td>i</td>\n",
       "      <td>60361.89</td>\n",
       "      <td>14.30</td>\n",
       "      <td>0.11</td>\n",
       "    </tr>\n",
       "    <tr>\n",
       "      <th>2</th>\n",
       "      <td>tfn0m436-sq33-20240221-0125-e91.fits</td>\n",
       "      <td>SN2024bch</td>\n",
       "      <td>g</td>\n",
       "      <td>60361.89</td>\n",
       "      <td>14.35</td>\n",
       "      <td>0.08</td>\n",
       "    </tr>\n",
       "  </tbody>\n",
       "</table>\n",
       "</div>"
      ],
      "text/plain": [
       "                                  image     target filter       mjd  PSFmag  \\\n",
       "0  tfn0m436-sq33-20240221-0126-e91.fits  SN2024bch      r  60361.89   14.13   \n",
       "1  tfn0m436-sq33-20240221-0127-e91.fits  SN2024bch      i  60361.89   14.30   \n",
       "2  tfn0m436-sq33-20240221-0125-e91.fits  SN2024bch      g  60361.89   14.35   \n",
       "\n",
       "    err  \n",
       "0  0.08  \n",
       "1  0.11  \n",
       "2  0.08  "
      ]
     },
     "execution_count": 26,
     "metadata": {},
     "output_type": "execute_result"
    }
   ],
   "source": [
    "# Here we define the file that you want to plot\n",
    "filename = \"PSF_phot_1708682814.txt\"  # @param {type:\"string\"}\n",
    "# read data into dataframe\n",
    "df = pd.read_table(\"../outputs/{}\".format(filename))\n",
    "# restrict to columns we need for plotting\n",
    "df = df[[\"#image\", \"target\", \"filter\", \"mjd\", \"PSFmag\", \"err\"]]\n",
    "df = df.rename(columns={\"#image\": \"image\"})\n",
    "\n",
    "df = df.sort_values(\"mjd\")\n",
    "\n",
    "df"
   ]
  },
  {
   "cell_type": "markdown",
   "metadata": {
    "id": "SviPZxGM9dyP"
   },
   "source": [
    "The data has been presented as a dataframe - essentially a table. This contains information about the image file the photometry has been measured from - `image`, the name of the target as put into the LCO observing portal - `target`, the filter band the image was taken in - `filter`, the date of the observation in the modified julian date - `mjd`, the measured magnitude of the target - `PSFmag`, and the uncertainity on that magnitude - `err`."
   ]
  },
  {
   "cell_type": "markdown",
   "metadata": {
    "id": "K33Ys05JFguT"
   },
   "source": [
    "We can now plot the lightcurve. You will need to enter the name of the transient here."
   ]
  },
  {
   "cell_type": "code",
   "execution_count": 27,
   "metadata": {
    "id": "L0gbxZylEN4Q",
    "tags": []
   },
   "outputs": [],
   "source": [
    "transient_name = \"SN2024bch\"  # @param {type:\"string\"}"
   ]
  },
  {
   "cell_type": "code",
   "execution_count": 28,
   "metadata": {
    "id": "3OMmWxxqNI4-",
    "tags": []
   },
   "outputs": [],
   "source": [
    "# make a directory to save the plots in\n",
    "import os\n",
    "\n",
    "plot_dir = \"../plots/{}\".format(transient_name)\n",
    "if not os.path.exists(plot_dir):\n",
    "    os.makedirs(plot_dir)"
   ]
  },
  {
   "cell_type": "code",
   "execution_count": 29,
   "metadata": {
    "id": "wC8xCu36H-lv",
    "tags": []
   },
   "outputs": [],
   "source": [
    "# define a colour palette\n",
    "band_filt_dict = {\n",
    "    \"u\": \"steelblue\",\n",
    "    \"g\": \"seagreen\",\n",
    "    \"o\": \"orange\",\n",
    "    \"c\": \"cyan\",\n",
    "    \"r\": \"firebrick\",\n",
    "    \"i\": \"saddlebrown\",\n",
    "    \"z\": \"black\",\n",
    "    \"B\": \"blue\",\n",
    "    \"V\": \"green\",\n",
    "}"
   ]
  },
  {
   "cell_type": "code",
   "execution_count": 30,
   "metadata": {
    "colab": {
     "base_uri": "https://localhost:8080/",
     "height": 493
    },
    "id": "EwPdiszfQT-r",
    "outputId": "ab285c04-80fc-4176-c4ab-18b780c2f971",
    "tags": []
   },
   "outputs": [
    {
     "data": {
      "image/png": "[encoded data removed]",
      "text/plain": [
       "<Figure size 1000x500 with 1 Axes>"
      ]
     },
     "metadata": {},
     "output_type": "display_data"
    }
   ],
   "source": [
    "# initialise plot\n",
    "fig = plt.figure(figsize=(10, 5))\n",
    "\n",
    "# plot per filter\n",
    "filters = [\"u\", \"g\", \"r\", \"i\", \"z\"]\n",
    "for band in filters:\n",
    "    df_filt = df[df[\"filter\"] == band]\n",
    "    if len(df_filt) > 0:\n",
    "        plt.errorbar(\n",
    "            x=df_filt[\"mjd\"],\n",
    "            y=df_filt[\"PSFmag\"],\n",
    "            yerr=df_filt[\"err\"],\n",
    "            fmt=\"o\",\n",
    "            label=\"LCO {}\".format(band),\n",
    "            color=band_filt_dict[band],\n",
    "        )\n",
    "        # plotting line - comment out to remove\n",
    "        plt.plot(df_filt[\"mjd\"], df_filt[\"PSFmag\"], color=band_filt_dict[band])\n",
    "\n",
    "# flip y-axis as magnitude measurements - i.e. lower number = brighter\n",
    "plt.gca().invert_yaxis()\n",
    "\n",
    "# legend and labels\n",
    "plt.legend()\n",
    "plt.xlabel(\"mjd\", fontsize=14)\n",
    "plt.ylabel(\"AB mag\", fontsize=14)\n",
    "plt.title(\"{}\".format(transient_name), fontsize=14)\n",
    "\n",
    "# saving plot as a pdf\n",
    "plt.savefig(\"{}/{}_lightcurve.pdf\".format(plot_dir, transient_name), dpi=400)"
   ]
  },
  {
   "cell_type": "code",
   "execution_count": null,
   "metadata": {},
   "outputs": [],
   "source": []
  }
 ],
 "metadata": {
  "colab": {
   "provenance": []
  },
  "kernelspec": {
   "display_name": "Python 3 (ipykernel)",
   "language": "python",
   "name": "python3"
  },
  "language_info": {
   "codemirror_mode": {
    "name": "ipython",
    "version": 3
   },
   "file_extension": ".py",
   "mimetype": "text/x-python",
   "name": "python",
   "nbconvert_exporter": "python",
   "pygments_lexer": "ipython3",
   "version": "3.11.0"
  }
 },
 "nbformat": 4,
 "nbformat_minor": 4
}
