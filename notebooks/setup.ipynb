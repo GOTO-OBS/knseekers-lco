{
 "cells": [
  {
   "cell_type": "markdown",
   "id": "ce34bcba-3104-41a2-a499-ff562be90763",
   "metadata": {},
   "source": [
    "# Welcome to KN Seekers LCO\n",
    "Please run the cell below to download and configure the environment. You'll see some folders appear in the sidebar shortly after this.  \n",
    "You won't need to run this notebook again - double-click on `knseekers-lco` in the sidebar to access the repository as intended."
   ]
  },
  {
   "cell_type": "code",
   "execution_count": null,
   "id": "28357939-2bb6-4404-830a-bcce5066b82b",
   "metadata": {},
   "outputs": [],
   "source": [
    "!git clone https://github.com/GOTO-OBS/knseekers-lco.git"
   ]
  }
 ],
 "metadata": {
  "kernelspec": {
   "display_name": "Python 3 (ipykernel)",
   "language": "python",
   "name": "python3"
  },
  "language_info": {
   "codemirror_mode": {
    "name": "ipython",
    "version": 3
   },
   "file_extension": ".py",
   "mimetype": "text/x-python",
   "name": "python",
   "nbconvert_exporter": "python",
   "pygments_lexer": "ipython3",
   "version": "3.11.0"
  }
 },
 "nbformat": 4,
 "nbformat_minor": 5
}
